{
 "cells": [
  {
   "cell_type": "markdown",
   "id": "59aa69fd",
   "metadata": {},
   "source": [
    "# Stroke Prediction\n",
    "\n",
    "* Attributes Description\n",
    "\n",
    "Variable | Description\n",
    "--------------|-----------\n",
    "id | Unique Identifier\n",
    "gender | Male, Female or Other\n",
    "age | Age of the patient\n",
    "hypertension | 0 if the patient doesn't have hypertension, 1 if the patient has hypertension\n",
    "heart_disease | 0 if the patient doesn't have any heart diseases, 1 if the patient has a heart disease\n",
    "ever_married | No or Yes\n",
    "work_type | children, Govt_jov, Never_worked, Private or Self-employed\n",
    "Residence_type | Rural or Urban\n",
    "avg_glucose_level | Average Glucose level in blood\n",
    "bmi | Body Mass Index\n",
    "smoking_status | formerly smoked, never smoked, smokes or Unknown\n",
    "stroke | 1 if the patient had a stroke or 0 if not\n",
    "\n"
   ]
  },
  {
   "cell_type": "markdown",
   "id": "d8ecd7f4",
   "metadata": {},
   "source": [
    "### Importing the libraries"
   ]
  },
  {
   "cell_type": "code",
   "execution_count": 1,
   "id": "150a4f55",
   "metadata": {},
   "outputs": [],
   "source": [
    "import numpy as np\n",
    "import pandas as pd\n",
    "import seaborn as sns\n",
    "import matplotlib.pyplot as plt\n",
    "import warnings\n",
    "warnings.filterwarnings('ignore')"
   ]
  },
  {
   "cell_type": "markdown",
   "id": "86af40da",
   "metadata": {},
   "source": [
    "### Importing the dataset"
   ]
  },
  {
   "cell_type": "code",
   "execution_count": 2,
   "id": "06895d41",
   "metadata": {},
   "outputs": [
    {
     "data": {
      "text/html": [
       "<div>\n",
       "<style scoped>\n",
       "    .dataframe tbody tr th:only-of-type {\n",
       "        vertical-align: middle;\n",
       "    }\n",
       "\n",
       "    .dataframe tbody tr th {\n",
       "        vertical-align: top;\n",
       "    }\n",
       "\n",
       "    .dataframe thead th {\n",
       "        text-align: right;\n",
       "    }\n",
       "</style>\n",
       "<table border=\"1\" class=\"dataframe\">\n",
       "  <thead>\n",
       "    <tr style=\"text-align: right;\">\n",
       "      <th></th>\n",
       "      <th>id</th>\n",
       "      <th>gender</th>\n",
       "      <th>age</th>\n",
       "      <th>hypertension</th>\n",
       "      <th>heart_disease</th>\n",
       "      <th>ever_married</th>\n",
       "      <th>work_type</th>\n",
       "      <th>Residence_type</th>\n",
       "      <th>avg_glucose_level</th>\n",
       "      <th>bmi</th>\n",
       "      <th>smoking_status</th>\n",
       "      <th>stroke</th>\n",
       "    </tr>\n",
       "  </thead>\n",
       "  <tbody>\n",
       "    <tr>\n",
       "      <th>0</th>\n",
       "      <td>9046</td>\n",
       "      <td>Male</td>\n",
       "      <td>67.0</td>\n",
       "      <td>0</td>\n",
       "      <td>1</td>\n",
       "      <td>Yes</td>\n",
       "      <td>Private</td>\n",
       "      <td>Urban</td>\n",
       "      <td>228.69</td>\n",
       "      <td>36.6</td>\n",
       "      <td>formerly smoked</td>\n",
       "      <td>1</td>\n",
       "    </tr>\n",
       "    <tr>\n",
       "      <th>1</th>\n",
       "      <td>51676</td>\n",
       "      <td>Female</td>\n",
       "      <td>61.0</td>\n",
       "      <td>0</td>\n",
       "      <td>0</td>\n",
       "      <td>Yes</td>\n",
       "      <td>Self-employed</td>\n",
       "      <td>Rural</td>\n",
       "      <td>202.21</td>\n",
       "      <td>NaN</td>\n",
       "      <td>never smoked</td>\n",
       "      <td>1</td>\n",
       "    </tr>\n",
       "    <tr>\n",
       "      <th>2</th>\n",
       "      <td>31112</td>\n",
       "      <td>Male</td>\n",
       "      <td>80.0</td>\n",
       "      <td>0</td>\n",
       "      <td>1</td>\n",
       "      <td>Yes</td>\n",
       "      <td>Private</td>\n",
       "      <td>Rural</td>\n",
       "      <td>105.92</td>\n",
       "      <td>32.5</td>\n",
       "      <td>never smoked</td>\n",
       "      <td>1</td>\n",
       "    </tr>\n",
       "    <tr>\n",
       "      <th>3</th>\n",
       "      <td>60182</td>\n",
       "      <td>Female</td>\n",
       "      <td>49.0</td>\n",
       "      <td>0</td>\n",
       "      <td>0</td>\n",
       "      <td>Yes</td>\n",
       "      <td>Private</td>\n",
       "      <td>Urban</td>\n",
       "      <td>171.23</td>\n",
       "      <td>34.4</td>\n",
       "      <td>smokes</td>\n",
       "      <td>1</td>\n",
       "    </tr>\n",
       "    <tr>\n",
       "      <th>4</th>\n",
       "      <td>1665</td>\n",
       "      <td>Female</td>\n",
       "      <td>79.0</td>\n",
       "      <td>1</td>\n",
       "      <td>0</td>\n",
       "      <td>Yes</td>\n",
       "      <td>Self-employed</td>\n",
       "      <td>Rural</td>\n",
       "      <td>174.12</td>\n",
       "      <td>24.0</td>\n",
       "      <td>never smoked</td>\n",
       "      <td>1</td>\n",
       "    </tr>\n",
       "  </tbody>\n",
       "</table>\n",
       "</div>"
      ],
      "text/plain": [
       "      id  gender   age  hypertension  heart_disease ever_married  \\\n",
       "0   9046    Male  67.0             0              1          Yes   \n",
       "1  51676  Female  61.0             0              0          Yes   \n",
       "2  31112    Male  80.0             0              1          Yes   \n",
       "3  60182  Female  49.0             0              0          Yes   \n",
       "4   1665  Female  79.0             1              0          Yes   \n",
       "\n",
       "       work_type Residence_type  avg_glucose_level   bmi   smoking_status  \\\n",
       "0        Private          Urban             228.69  36.6  formerly smoked   \n",
       "1  Self-employed          Rural             202.21   NaN     never smoked   \n",
       "2        Private          Rural             105.92  32.5     never smoked   \n",
       "3        Private          Urban             171.23  34.4           smokes   \n",
       "4  Self-employed          Rural             174.12  24.0     never smoked   \n",
       "\n",
       "   stroke  \n",
       "0       1  \n",
       "1       1  \n",
       "2       1  \n",
       "3       1  \n",
       "4       1  "
      ]
     },
     "execution_count": 2,
     "metadata": {},
     "output_type": "execute_result"
    }
   ],
   "source": [
    "df = pd.read_csv('healthcare-dataset-stroke-data.csv')\n",
    "df.head()"
   ]
  },
  {
   "cell_type": "code",
   "execution_count": 3,
   "id": "d4ee1ce4",
   "metadata": {},
   "outputs": [],
   "source": [
    "# As 'id' Column is of no use. So, we drop that column\n",
    "df = df.drop(['id'], 1)"
   ]
  },
  {
   "cell_type": "code",
   "execution_count": 4,
   "id": "e9720b26",
   "metadata": {
    "scrolled": true
   },
   "outputs": [
    {
     "data": {
      "text/html": [
       "<div>\n",
       "<style scoped>\n",
       "    .dataframe tbody tr th:only-of-type {\n",
       "        vertical-align: middle;\n",
       "    }\n",
       "\n",
       "    .dataframe tbody tr th {\n",
       "        vertical-align: top;\n",
       "    }\n",
       "\n",
       "    .dataframe thead th {\n",
       "        text-align: right;\n",
       "    }\n",
       "</style>\n",
       "<table border=\"1\" class=\"dataframe\">\n",
       "  <thead>\n",
       "    <tr style=\"text-align: right;\">\n",
       "      <th></th>\n",
       "      <th>age</th>\n",
       "      <th>hypertension</th>\n",
       "      <th>heart_disease</th>\n",
       "      <th>avg_glucose_level</th>\n",
       "      <th>bmi</th>\n",
       "      <th>stroke</th>\n",
       "    </tr>\n",
       "  </thead>\n",
       "  <tbody>\n",
       "    <tr>\n",
       "      <th>count</th>\n",
       "      <td>5110.000000</td>\n",
       "      <td>5110.000000</td>\n",
       "      <td>5110.000000</td>\n",
       "      <td>5110.000000</td>\n",
       "      <td>4909.000000</td>\n",
       "      <td>5110.000000</td>\n",
       "    </tr>\n",
       "    <tr>\n",
       "      <th>mean</th>\n",
       "      <td>43.226614</td>\n",
       "      <td>0.097456</td>\n",
       "      <td>0.054012</td>\n",
       "      <td>106.147677</td>\n",
       "      <td>28.893237</td>\n",
       "      <td>0.048728</td>\n",
       "    </tr>\n",
       "    <tr>\n",
       "      <th>std</th>\n",
       "      <td>22.612647</td>\n",
       "      <td>0.296607</td>\n",
       "      <td>0.226063</td>\n",
       "      <td>45.283560</td>\n",
       "      <td>7.854067</td>\n",
       "      <td>0.215320</td>\n",
       "    </tr>\n",
       "    <tr>\n",
       "      <th>min</th>\n",
       "      <td>0.080000</td>\n",
       "      <td>0.000000</td>\n",
       "      <td>0.000000</td>\n",
       "      <td>55.120000</td>\n",
       "      <td>10.300000</td>\n",
       "      <td>0.000000</td>\n",
       "    </tr>\n",
       "    <tr>\n",
       "      <th>25%</th>\n",
       "      <td>25.000000</td>\n",
       "      <td>0.000000</td>\n",
       "      <td>0.000000</td>\n",
       "      <td>77.245000</td>\n",
       "      <td>23.500000</td>\n",
       "      <td>0.000000</td>\n",
       "    </tr>\n",
       "    <tr>\n",
       "      <th>50%</th>\n",
       "      <td>45.000000</td>\n",
       "      <td>0.000000</td>\n",
       "      <td>0.000000</td>\n",
       "      <td>91.885000</td>\n",
       "      <td>28.100000</td>\n",
       "      <td>0.000000</td>\n",
       "    </tr>\n",
       "    <tr>\n",
       "      <th>75%</th>\n",
       "      <td>61.000000</td>\n",
       "      <td>0.000000</td>\n",
       "      <td>0.000000</td>\n",
       "      <td>114.090000</td>\n",
       "      <td>33.100000</td>\n",
       "      <td>0.000000</td>\n",
       "    </tr>\n",
       "    <tr>\n",
       "      <th>max</th>\n",
       "      <td>82.000000</td>\n",
       "      <td>1.000000</td>\n",
       "      <td>1.000000</td>\n",
       "      <td>271.740000</td>\n",
       "      <td>97.600000</td>\n",
       "      <td>1.000000</td>\n",
       "    </tr>\n",
       "  </tbody>\n",
       "</table>\n",
       "</div>"
      ],
      "text/plain": [
       "               age  hypertension  heart_disease  avg_glucose_level  \\\n",
       "count  5110.000000   5110.000000    5110.000000        5110.000000   \n",
       "mean     43.226614      0.097456       0.054012         106.147677   \n",
       "std      22.612647      0.296607       0.226063          45.283560   \n",
       "min       0.080000      0.000000       0.000000          55.120000   \n",
       "25%      25.000000      0.000000       0.000000          77.245000   \n",
       "50%      45.000000      0.000000       0.000000          91.885000   \n",
       "75%      61.000000      0.000000       0.000000         114.090000   \n",
       "max      82.000000      1.000000       1.000000         271.740000   \n",
       "\n",
       "               bmi       stroke  \n",
       "count  4909.000000  5110.000000  \n",
       "mean     28.893237     0.048728  \n",
       "std       7.854067     0.215320  \n",
       "min      10.300000     0.000000  \n",
       "25%      23.500000     0.000000  \n",
       "50%      28.100000     0.000000  \n",
       "75%      33.100000     0.000000  \n",
       "max      97.600000     1.000000  "
      ]
     },
     "execution_count": 4,
     "metadata": {},
     "output_type": "execute_result"
    }
   ],
   "source": [
    "# Statistical info\n",
    "df.describe()"
   ]
  },
  {
   "cell_type": "code",
   "execution_count": 5,
   "id": "5235e102",
   "metadata": {},
   "outputs": [
    {
     "name": "stdout",
     "output_type": "stream",
     "text": [
      "<class 'pandas.core.frame.DataFrame'>\n",
      "RangeIndex: 5110 entries, 0 to 5109\n",
      "Data columns (total 11 columns):\n",
      " #   Column             Non-Null Count  Dtype  \n",
      "---  ------             --------------  -----  \n",
      " 0   gender             5110 non-null   object \n",
      " 1   age                5110 non-null   float64\n",
      " 2   hypertension       5110 non-null   int64  \n",
      " 3   heart_disease      5110 non-null   int64  \n",
      " 4   ever_married       5110 non-null   object \n",
      " 5   work_type          5110 non-null   object \n",
      " 6   Residence_type     5110 non-null   object \n",
      " 7   avg_glucose_level  5110 non-null   float64\n",
      " 8   bmi                4909 non-null   float64\n",
      " 9   smoking_status     5110 non-null   object \n",
      " 10  stroke             5110 non-null   int64  \n",
      "dtypes: float64(3), int64(3), object(5)\n",
      "memory usage: 439.3+ KB\n"
     ]
    }
   ],
   "source": [
    "# # Datatypes of Attributes\n",
    "df.info()"
   ]
  },
  {
   "cell_type": "code",
   "execution_count": 6,
   "id": "1e84a30e",
   "metadata": {},
   "outputs": [
    {
     "data": {
      "text/plain": [
       "gender                  3\n",
       "age                   104\n",
       "hypertension            2\n",
       "heart_disease           2\n",
       "ever_married            2\n",
       "work_type               5\n",
       "Residence_type          2\n",
       "avg_glucose_level    3979\n",
       "bmi                   419\n",
       "smoking_status          4\n",
       "stroke                  2\n",
       "dtype: int64"
      ]
     },
     "execution_count": 6,
     "metadata": {},
     "output_type": "execute_result"
    }
   ],
   "source": [
    "# Check the unique values in dataset\n",
    "df.apply(lambda x: len(x.unique()))"
   ]
  },
  {
   "cell_type": "markdown",
   "id": "f7cd7c42",
   "metadata": {},
   "source": [
    "### Data Preprocessing"
   ]
  },
  {
   "cell_type": "code",
   "execution_count": 7,
   "id": "d48121a7",
   "metadata": {},
   "outputs": [
    {
     "data": {
      "text/plain": [
       "gender                 0\n",
       "age                    0\n",
       "hypertension           0\n",
       "heart_disease          0\n",
       "ever_married           0\n",
       "work_type              0\n",
       "Residence_type         0\n",
       "avg_glucose_level      0\n",
       "bmi                  201\n",
       "smoking_status         0\n",
       "stroke                 0\n",
       "dtype: int64"
      ]
     },
     "execution_count": 7,
     "metadata": {},
     "output_type": "execute_result"
    }
   ],
   "source": [
    "# To check the null values\n",
    "df.isnull().sum()"
   ]
  },
  {
   "cell_type": "markdown",
   "id": "b18bba10",
   "metadata": {},
   "source": [
    "* In 'bmi' column = 201 values are null"
   ]
  },
  {
   "cell_type": "code",
   "execution_count": 8,
   "id": "c7704f8f",
   "metadata": {
    "scrolled": false
   },
   "outputs": [
    {
     "data": {
      "text/plain": [
       "<AxesSubplot:xlabel='bmi', ylabel='Density'>"
      ]
     },
     "execution_count": 8,
     "metadata": {},
     "output_type": "execute_result"
    },
    {
     "data": {
      "image/png": "[encoded data removed]",
      "text/plain": [
       "<Figure size 432x288 with 1 Axes>"
      ]
     },
     "metadata": {
      "needs_background": "light"
     },
     "output_type": "display_data"
    }
   ],
   "source": [
    "# Check the distribution of 'bmi'\n",
    "sns.distplot(df['bmi'])"
   ]
  },
  {
   "cell_type": "markdown",
   "id": "04f97d09",
   "metadata": {},
   "source": [
    "- As 'bmi' is normally distributed. So, we will fill null values with mean."
   ]
  },
  {
   "cell_type": "code",
   "execution_count": 9,
   "id": "56d030fc",
   "metadata": {},
   "outputs": [],
   "source": [
    "df['bmi'] = df['bmi'].fillna(df['bmi'].mean())\n",
    "# df['bmi'].replace(to_replace=np.nan, value=df['bmi'].mean(), inplace=True)"
   ]
  },
  {
   "cell_type": "code",
   "execution_count": 10,
   "id": "18b8baf9",
   "metadata": {},
   "outputs": [
    {
     "data": {
      "text/html": [
       "<div>\n",
       "<style scoped>\n",
       "    .dataframe tbody tr th:only-of-type {\n",
       "        vertical-align: middle;\n",
       "    }\n",
       "\n",
       "    .dataframe tbody tr th {\n",
       "        vertical-align: top;\n",
       "    }\n",
       "\n",
       "    .dataframe thead th {\n",
       "        text-align: right;\n",
       "    }\n",
       "</style>\n",
       "<table border=\"1\" class=\"dataframe\">\n",
       "  <thead>\n",
       "    <tr style=\"text-align: right;\">\n",
       "      <th></th>\n",
       "      <th>gender</th>\n",
       "      <th>age</th>\n",
       "      <th>hypertension</th>\n",
       "      <th>heart_disease</th>\n",
       "      <th>ever_married</th>\n",
       "      <th>work_type</th>\n",
       "      <th>Residence_type</th>\n",
       "      <th>avg_glucose_level</th>\n",
       "      <th>bmi</th>\n",
       "      <th>smoking_status</th>\n",
       "      <th>stroke</th>\n",
       "    </tr>\n",
       "  </thead>\n",
       "  <tbody>\n",
       "    <tr>\n",
       "      <th>0</th>\n",
       "      <td>Male</td>\n",
       "      <td>67.0</td>\n",
       "      <td>0</td>\n",
       "      <td>1</td>\n",
       "      <td>Yes</td>\n",
       "      <td>Private</td>\n",
       "      <td>Urban</td>\n",
       "      <td>228.69</td>\n",
       "      <td>36.600000</td>\n",
       "      <td>formerly smoked</td>\n",
       "      <td>1</td>\n",
       "    </tr>\n",
       "    <tr>\n",
       "      <th>1</th>\n",
       "      <td>Female</td>\n",
       "      <td>61.0</td>\n",
       "      <td>0</td>\n",
       "      <td>0</td>\n",
       "      <td>Yes</td>\n",
       "      <td>Self-employed</td>\n",
       "      <td>Rural</td>\n",
       "      <td>202.21</td>\n",
       "      <td>28.893237</td>\n",
       "      <td>never smoked</td>\n",
       "      <td>1</td>\n",
       "    </tr>\n",
       "    <tr>\n",
       "      <th>2</th>\n",
       "      <td>Male</td>\n",
       "      <td>80.0</td>\n",
       "      <td>0</td>\n",
       "      <td>1</td>\n",
       "      <td>Yes</td>\n",
       "      <td>Private</td>\n",
       "      <td>Rural</td>\n",
       "      <td>105.92</td>\n",
       "      <td>32.500000</td>\n",
       "      <td>never smoked</td>\n",
       "      <td>1</td>\n",
       "    </tr>\n",
       "    <tr>\n",
       "      <th>3</th>\n",
       "      <td>Female</td>\n",
       "      <td>49.0</td>\n",
       "      <td>0</td>\n",
       "      <td>0</td>\n",
       "      <td>Yes</td>\n",
       "      <td>Private</td>\n",
       "      <td>Urban</td>\n",
       "      <td>171.23</td>\n",
       "      <td>34.400000</td>\n",
       "      <td>smokes</td>\n",
       "      <td>1</td>\n",
       "    </tr>\n",
       "    <tr>\n",
       "      <th>4</th>\n",
       "      <td>Female</td>\n",
       "      <td>79.0</td>\n",
       "      <td>1</td>\n",
       "      <td>0</td>\n",
       "      <td>Yes</td>\n",
       "      <td>Self-employed</td>\n",
       "      <td>Rural</td>\n",
       "      <td>174.12</td>\n",
       "      <td>24.000000</td>\n",
       "      <td>never smoked</td>\n",
       "      <td>1</td>\n",
       "    </tr>\n",
       "  </tbody>\n",
       "</table>\n",
       "</div>"
      ],
      "text/plain": [
       "   gender   age  hypertension  heart_disease ever_married      work_type  \\\n",
       "0    Male  67.0             0              1          Yes        Private   \n",
       "1  Female  61.0             0              0          Yes  Self-employed   \n",
       "2    Male  80.0             0              1          Yes        Private   \n",
       "3  Female  49.0             0              0          Yes        Private   \n",
       "4  Female  79.0             1              0          Yes  Self-employed   \n",
       "\n",
       "  Residence_type  avg_glucose_level        bmi   smoking_status  stroke  \n",
       "0          Urban             228.69  36.600000  formerly smoked       1  \n",
       "1          Rural             202.21  28.893237     never smoked       1  \n",
       "2          Rural             105.92  32.500000     never smoked       1  \n",
       "3          Urban             171.23  34.400000           smokes       1  \n",
       "4          Rural             174.12  24.000000     never smoked       1  "
      ]
     },
     "execution_count": 10,
     "metadata": {},
     "output_type": "execute_result"
    }
   ],
   "source": [
    "df.head()"
   ]
  },
  {
   "cell_type": "code",
   "execution_count": 11,
   "id": "7ebf2e5a",
   "metadata": {},
   "outputs": [
    {
     "data": {
      "text/plain": [
       "['gender', 'ever_married', 'work_type', 'Residence_type', 'smoking_status']"
      ]
     },
     "execution_count": 11,
     "metadata": {},
     "output_type": "execute_result"
    }
   ],
   "source": [
    "# check for categorical attributes\n",
    "cat_col = []\n",
    "for x in df.dtypes.index:\n",
    "    if df.dtypes[x] == 'object':\n",
    "        cat_col.append(x)\n",
    "cat_col"
   ]
  },
  {
   "cell_type": "code",
   "execution_count": 12,
   "id": "387e80b1",
   "metadata": {},
   "outputs": [
    {
     "name": "stdout",
     "output_type": "stream",
     "text": [
      "gender\n",
      "Female    2994\n",
      "Male      2115\n",
      "Other        1\n",
      "Name: gender, dtype: int64\n",
      "\n",
      "ever_married\n",
      "Yes    3353\n",
      "No     1757\n",
      "Name: ever_married, dtype: int64\n",
      "\n",
      "work_type\n",
      "Private          2925\n",
      "Self-employed     819\n",
      "children          687\n",
      "Govt_job          657\n",
      "Never_worked       22\n",
      "Name: work_type, dtype: int64\n",
      "\n",
      "Residence_type\n",
      "Urban    2596\n",
      "Rural    2514\n",
      "Name: Residence_type, dtype: int64\n",
      "\n",
      "smoking_status\n",
      "never smoked       1892\n",
      "Unknown            1544\n",
      "formerly smoked     885\n",
      "smokes              789\n",
      "Name: smoking_status, dtype: int64\n",
      "\n"
     ]
    }
   ],
   "source": [
    "# print the categorical columns\n",
    "for col in cat_col:\n",
    "    print(col)\n",
    "    print(df[col].value_counts())\n",
    "    print()"
   ]
  },
  {
   "cell_type": "markdown",
   "id": "75a68680",
   "metadata": {},
   "source": [
    "#### Gender"
   ]
  },
  {
   "cell_type": "code",
   "execution_count": 13,
   "id": "c67ea61f",
   "metadata": {},
   "outputs": [
    {
     "data": {
      "text/html": [
       "<div>\n",
       "<style scoped>\n",
       "    .dataframe tbody tr th:only-of-type {\n",
       "        vertical-align: middle;\n",
       "    }\n",
       "\n",
       "    .dataframe tbody tr th {\n",
       "        vertical-align: top;\n",
       "    }\n",
       "\n",
       "    .dataframe thead th {\n",
       "        text-align: right;\n",
       "    }\n",
       "</style>\n",
       "<table border=\"1\" class=\"dataframe\">\n",
       "  <thead>\n",
       "    <tr style=\"text-align: right;\">\n",
       "      <th></th>\n",
       "      <th></th>\n",
       "      <th>stroke</th>\n",
       "    </tr>\n",
       "    <tr>\n",
       "      <th>gender</th>\n",
       "      <th>stroke</th>\n",
       "      <th></th>\n",
       "    </tr>\n",
       "  </thead>\n",
       "  <tbody>\n",
       "    <tr>\n",
       "      <th rowspan=\"2\" valign=\"top\">Female</th>\n",
       "      <th>0</th>\n",
       "      <td>2853</td>\n",
       "    </tr>\n",
       "    <tr>\n",
       "      <th>1</th>\n",
       "      <td>141</td>\n",
       "    </tr>\n",
       "    <tr>\n",
       "      <th rowspan=\"2\" valign=\"top\">Male</th>\n",
       "      <th>0</th>\n",
       "      <td>2007</td>\n",
       "    </tr>\n",
       "    <tr>\n",
       "      <th>1</th>\n",
       "      <td>108</td>\n",
       "    </tr>\n",
       "    <tr>\n",
       "      <th>Other</th>\n",
       "      <th>0</th>\n",
       "      <td>1</td>\n",
       "    </tr>\n",
       "  </tbody>\n",
       "</table>\n",
       "</div>"
      ],
      "text/plain": [
       "               stroke\n",
       "gender stroke        \n",
       "Female 0         2853\n",
       "       1          141\n",
       "Male   0         2007\n",
       "       1          108\n",
       "Other  0            1"
      ]
     },
     "execution_count": 13,
     "metadata": {},
     "output_type": "execute_result"
    }
   ],
   "source": [
    "gender_stroke = df.groupby([\"gender\",\"stroke\"])[[\"stroke\"]].count()\n",
    "gender_stroke"
   ]
  },
  {
   "cell_type": "markdown",
   "id": "109845ac",
   "metadata": {},
   "source": [
    "- We see a similar stroke rate in Male and Female. There is 'Other' gender which only have 1 sample. We remove this."
   ]
  },
  {
   "cell_type": "code",
   "execution_count": 14,
   "id": "1efeccf1",
   "metadata": {},
   "outputs": [],
   "source": [
    "df_delete = df[df['gender'] == 'Other'].index\n",
    "df = df.drop(df_delete)"
   ]
  },
  {
   "cell_type": "markdown",
   "id": "0a437944",
   "metadata": {},
   "source": [
    "## Exploratory Data Analysis"
   ]
  },
  {
   "cell_type": "code",
   "execution_count": 15,
   "id": "c8e05c6e",
   "metadata": {},
   "outputs": [
    {
     "data": {
      "text/plain": [
       "<AxesSubplot:xlabel='bmi'>"
      ]
     },
     "execution_count": 15,
     "metadata": {},
     "output_type": "execute_result"
    },
    {
     "data": {
      "image/png": "[encoded data removed]",
      "text/plain": [
       "<Figure size 432x288 with 1 Axes>"
      ]
     },
     "metadata": {
      "needs_background": "light"
     },
     "output_type": "display_data"
    }
   ],
   "source": [
    "sns.boxplot(df['bmi'])"
   ]
  },
  {
   "cell_type": "markdown",
   "id": "8f01b1f6",
   "metadata": {},
   "source": [
    "### Dealing with Outliers"
   ]
  },
  {
   "cell_type": "code",
   "execution_count": 16,
   "id": "3a063b6c",
   "metadata": {},
   "outputs": [],
   "source": [
    "# Using quantile method to remove outliers for bmi index\n",
    "q = df['bmi'].quantile(0.99)\n",
    "df = df[df['bmi']<q]"
   ]
  },
  {
   "cell_type": "markdown",
   "id": "11de4fd0",
   "metadata": {},
   "source": [
    "* Numerical variable\n",
    " - Continous: age, avg_glucose_level, bmi\n",
    " \n",
    "\n",
    "* Categorical : gender, stroke, smoking_status,heart_disease, ever_married, hypertension, work_type, Residence_type"
   ]
  },
  {
   "cell_type": "code",
   "execution_count": 17,
   "id": "0ceae69f",
   "metadata": {
    "scrolled": true
   },
   "outputs": [
    {
     "name": "stdout",
     "output_type": "stream",
     "text": [
      "Categorical variables:\n",
      "['gender', 'ever_married', 'work_type', 'Residence_type', 'smoking_status']\n",
      "-----------------------------------\n",
      "\n",
      "Numerical variables:\n",
      "['age', 'avg_glucose_level', 'bmi']\n",
      "-----------------------------------\n",
      "\n"
     ]
    }
   ],
   "source": [
    "categorical = (df.dtypes == \"object\")\n",
    "categorical_list = list(categorical[categorical].index)\n",
    "\n",
    "print(\"Categorical variables:\")\n",
    "print(categorical_list)\n",
    "\n",
    "print('-----------------------------------\\n')\n",
    "\n",
    "numerical = (df.dtypes == \"float64\")\n",
    "numerical_list = list(numerical[numerical].index)\n",
    "\n",
    "print(\"Numerical variables:\")\n",
    "print(numerical_list)\n",
    "\n",
    "print('-----------------------------------\\n')"
   ]
  },
  {
   "cell_type": "code",
   "execution_count": 18,
   "id": "e2279f18",
   "metadata": {
    "scrolled": true
   },
   "outputs": [
    {
     "data": {
      "image/png": "[encoded data removed]",
      "text/plain": [
       "<Figure size 720x432 with 2 Axes>"
      ]
     },
     "metadata": {},
     "output_type": "display_data"
    }
   ],
   "source": [
    "#----------------DATA COPY FOR VISUALIZATION--------------------\n",
    "\n",
    "StrokeAnalysis = df.copy()\n",
    "\n",
    "StrokeAnalysis['hypertension'] = StrokeAnalysis['hypertension'].apply(lambda x : 'Hypertension' if x == 1 else 'No Hypertension') \n",
    "StrokeAnalysis['heart_disease'] = StrokeAnalysis['heart_disease'].apply(lambda x : 'Heart Disease' if x == 1 else 'No Heart Disease') \n",
    "StrokeAnalysis['stroke'] = StrokeAnalysis['stroke'].apply(lambda x : 'Suffered Stroke' if x == 1 else 'Never Suffered Stroke') \n",
    "StrokeAnalysis['ever_married'] = StrokeAnalysis['ever_married'].apply(lambda x : 'Married' if x == 'Yes' else 'Unmarried') \n",
    "\n",
    "\n",
    "# NO HYPERTENSION VS HYPERTENSION & NO HEART DISEASE VS HEART DISEASE\n",
    "\n",
    "plt.figure(figsize=(10,6))\n",
    "placement = 1\n",
    "\n",
    "for i in ['hypertension','heart_disease']:\n",
    "    label = []\n",
    "    value = []\n",
    "    for j in range(len(StrokeAnalysis[i].value_counts().index)):\n",
    "        label.append(StrokeAnalysis[i].value_counts().index[j])\n",
    "        value.append(StrokeAnalysis[i].value_counts()[j])\n",
    "        \n",
    "    plt.subplot(1,2,placement)    \n",
    "    explode = (0.1, 0.2)\n",
    "    plt.pie(value, labels = label, autopct='%1.2f%%', shadow=True, explode=explode)\n",
    "    plt.title(\"{} VS {}\".format(label[0],label[1]))\n",
    "    placement += 1\n",
    "    \n",
    "plt.tight_layout(pad=0.4)  \n",
    "\n"
   ]
  },
  {
   "cell_type": "markdown",
   "id": "b870b8ed",
   "metadata": {},
   "source": [
    "* The propotion of patients with hypertension and heart diseases are very low."
   ]
  },
  {
   "cell_type": "code",
   "execution_count": 19,
   "id": "805766bd",
   "metadata": {},
   "outputs": [
    {
     "data": {
      "image/png": "[encoded data removed]",
      "text/plain": [
       "<Figure size 720x432 with 2 Axes>"
      ]
     },
     "metadata": {},
     "output_type": "display_data"
    }
   ],
   "source": [
    "# MARRIED VS UNMARIED & URBAN VS RURAL\n",
    "\n",
    "plt.figure(figsize=(10,6))\n",
    "placement = 1\n",
    "\n",
    "for i in ['ever_married','Residence_type']:\n",
    "    label = []\n",
    "    value = []\n",
    "    for j in range(len(StrokeAnalysis[i].value_counts().index)):\n",
    "        label.append(StrokeAnalysis[i].value_counts().index[j])\n",
    "        value.append(StrokeAnalysis[i].value_counts()[j])\n",
    "        \n",
    "    plt.subplot(1,2,placement)    \n",
    "    explode = (0.1, 0.2)\n",
    "    plt.pie(value, labels = label,autopct='%1.2f%%', shadow=True, explode=explode)\n",
    "    plt.title(\"{} VS {}\".format(label[0],label[1]))\n",
    "    placement += 1\n",
    "    \n",
    "plt.tight_layout(pad=0.4) \n",
    "\n"
   ]
  },
  {
   "cell_type": "markdown",
   "id": "2e1a38e2",
   "metadata": {},
   "source": [
    "* We see that the number of patients married are much more. The proportion of rural and urban patients are almost equal."
   ]
  },
  {
   "cell_type": "code",
   "execution_count": 20,
   "id": "d7f0d56e",
   "metadata": {
    "scrolled": false
   },
   "outputs": [
    {
     "name": "stdout",
     "output_type": "stream",
     "text": [
      "Pie plot of Work Type\n",
      "------------------------------------------------------------\n",
      "\n"
     ]
    },
    {
     "data": {
      "image/png": "[encoded data removed]",
      "text/plain": [
       "<Figure size 432x288 with 1 Axes>"
      ]
     },
     "metadata": {},
     "output_type": "display_data"
    }
   ],
   "source": [
    "# WORK TYPE\n",
    "\n",
    "print(\"Pie plot of Work Type\")\n",
    "print('------------------------------------------------------------\\n')\n",
    "\n",
    "\n",
    "plt.subplot(1,1,1)  \n",
    "label = StrokeAnalysis['work_type'].value_counts().index\n",
    "value = StrokeAnalysis['work_type'].value_counts().values\n",
    "plt.pie(value, labels = label,autopct='%1.2f%%', shadow=True, explode=None)\n",
    "plt.title(\"Work Types\")\n",
    "\n",
    "plt.tight_layout(pad=0.4) \n",
    "\n",
    "\n",
    "\n"
   ]
  },
  {
   "cell_type": "code",
   "execution_count": 21,
   "id": "9f3a154f",
   "metadata": {},
   "outputs": [
    {
     "name": "stdout",
     "output_type": "stream",
     "text": [
      "Visualization of the distribution of Numerical columns\n",
      "------------------------------------------------------------\n",
      "\n"
     ]
    },
    {
     "data": {
      "image/png": "[encoded data removed]",
      "text/plain": [
       "<Figure size 648x216 with 1 Axes>"
      ]
     },
     "metadata": {
      "needs_background": "light"
     },
     "output_type": "display_data"
    },
    {
     "data": {
      "image/png": "[encoded data removed]",
      "text/plain": [
       "<Figure size 648x216 with 1 Axes>"
      ]
     },
     "metadata": {
      "needs_background": "light"
     },
     "output_type": "display_data"
    },
    {
     "data": {
      "image/png": "[encoded data removed]",
      "text/plain": [
       "<Figure size 648x216 with 1 Axes>"
      ]
     },
     "metadata": {
      "needs_background": "light"
     },
     "output_type": "display_data"
    }
   ],
   "source": [
    "# Visualization of the distribution of Numerical columns\n",
    "\n",
    "print(\"Visualization of the distribution of Numerical columns\")\n",
    "print('------------------------------------------------------------\\n')\n",
    "\n",
    "\n",
    "for n in numerical_list:\n",
    "     plt.figure(figsize = (9,3))\n",
    "     plt.hist(df[n], bins = 50)\n",
    "     plt.xlabel(n)\n",
    "     plt.ylabel(\"Frequency\")\n",
    "     plt.title(\"{} Distribution with Histogram\".format(n))\n",
    "     plt.show()\n"
   ]
  },
  {
   "cell_type": "code",
   "execution_count": 22,
   "id": "dab9418c",
   "metadata": {},
   "outputs": [
    {
     "name": "stdout",
     "output_type": "stream",
     "text": [
      "Visualization of stroke vs other columns\n",
      "-----------------------------------------------------\n",
      "\n"
     ]
    },
    {
     "data": {
      "image/png": "[encoded data removed]",
      "text/plain": [
       "<Figure size 432x288 with 1 Axes>"
      ]
     },
     "metadata": {
      "needs_background": "light"
     },
     "output_type": "display_data"
    },
    {
     "data": {
      "image/png": "[encoded data removed]",
      "text/plain": [
       "<Figure size 432x288 with 1 Axes>"
      ]
     },
     "metadata": {
      "needs_background": "light"
     },
     "output_type": "display_data"
    },
    {
     "data": {
      "image/png": "[encoded data removed]",
      "text/plain": [
       "<Figure size 432x288 with 1 Axes>"
      ]
     },
     "metadata": {
      "needs_background": "light"
     },
     "output_type": "display_data"
    },
    {
     "data": {
      "image/png": "[encoded data removed]",
      "text/plain": [
       "<Figure size 432x288 with 1 Axes>"
      ]
     },
     "metadata": {
      "needs_background": "light"
     },
     "output_type": "display_data"
    },
    {
     "data": {
      "image/png": "[encoded data removed]",
      "text/plain": [
       "<Figure size 432x288 with 1 Axes>"
      ]
     },
     "metadata": {
      "needs_background": "light"
     },
     "output_type": "display_data"
    }
   ],
   "source": [
    "# Visualization of stroke vs other columns\n",
    "\n",
    "print(\"Visualization of stroke vs other columns\")\n",
    "print('-----------------------------------------------------\\n')\n",
    "\n",
    "for i in categorical_list:\n",
    "    ax = sns.countplot(data=df, x=i,hue=\"stroke\")\n",
    "    plt.title(\"Effect of {} on Stroke\".format(i))\n",
    "    \n",
    "    for p in ax.patches:\n",
    "        ax.annotate(f'{round(p.get_height()/len(df)*100,2)} %', xy=(p.get_x() + p.get_width() / 2,  \n",
    "            p.get_height()), ha='center', va='center', size=13, xytext=(0, 8), textcoords='offset points')\n",
    "    plt.show()\n"
   ]
  },
  {
   "cell_type": "code",
   "execution_count": 23,
   "id": "4d386e41",
   "metadata": {},
   "outputs": [
    {
     "name": "stdout",
     "output_type": "stream",
     "text": [
      "Heatmap Correlation\n",
      "------------------------------------------------------------------\n",
      "\n"
     ]
    },
    {
     "data": {
      "image/png": "[encoded data removed]",
      "text/plain": [
       "<Figure size 576x432 with 2 Axes>"
      ]
     },
     "metadata": {
      "needs_background": "light"
     },
     "output_type": "display_data"
    }
   ],
   "source": [
    "# Heatmap Correlation\n",
    "\n",
    "print(\"Heatmap Correlation\")\n",
    "print('------------------------------------------------------------------\\n')\n",
    "\n",
    "plt.figure(figsize = (8,6))  \n",
    "sns.heatmap(df.corr(), annot = True,cmap=\"coolwarm\")\n",
    "plt.show()\n"
   ]
  },
  {
   "cell_type": "markdown",
   "id": "9cbe5850",
   "metadata": {},
   "source": [
    "### Input Split"
   ]
  },
  {
   "cell_type": "code",
   "execution_count": 24,
   "id": "e3dd86e0",
   "metadata": {},
   "outputs": [],
   "source": [
    "X = df.iloc[:, :-1]\n",
    "y = df.iloc[:, -1]"
   ]
  },
  {
   "cell_type": "markdown",
   "id": "5e1a4a95",
   "metadata": {},
   "source": [
    "### Encoding Categorical Data\n",
    "\n",
    "* Independent Variable\n",
    "  - OneHotEncoder\n",
    "\n",
    "* Dependent Variable\n",
    "  - LebelEncoder"
   ]
  },
  {
   "cell_type": "code",
   "execution_count": 25,
   "id": "373a05ae",
   "metadata": {},
   "outputs": [],
   "source": [
    "from sklearn.compose import ColumnTransformer\n",
    "from sklearn.preprocessing import OneHotEncoder\n",
    "ct = ColumnTransformer(transformers=[('encoder', OneHotEncoder(), [0,4,5,6,9])], remainder='passthrough')\n",
    "X = np.array(ct.fit_transform(X))"
   ]
  },
  {
   "cell_type": "code",
   "execution_count": 26,
   "id": "798d7229",
   "metadata": {},
   "outputs": [
    {
     "data": {
      "text/plain": [
       "(5057, 20)"
      ]
     },
     "execution_count": 26,
     "metadata": {},
     "output_type": "execute_result"
    }
   ],
   "source": [
    "X.shape"
   ]
  },
  {
   "cell_type": "markdown",
   "id": "f22dfbc2",
   "metadata": {},
   "source": [
    "### Splitting the dataset into the Training set and Test set"
   ]
  },
  {
   "cell_type": "code",
   "execution_count": 27,
   "id": "e8c9f6b3",
   "metadata": {},
   "outputs": [],
   "source": [
    "from sklearn.model_selection import train_test_split\n",
    "X_train, X_test, y_train, y_test = train_test_split(X, y, test_size=0.2, random_state=0)"
   ]
  },
  {
   "cell_type": "code",
   "execution_count": 28,
   "id": "70d0f637",
   "metadata": {},
   "outputs": [],
   "source": [
    "# Initializing empty lists to append all model's name and corresponding name\n",
    "accuracy = []\n",
    "model = []"
   ]
  },
  {
   "cell_type": "markdown",
   "id": "92eb5e69",
   "metadata": {},
   "source": [
    "## Training the Model on the Training set"
   ]
  },
  {
   "cell_type": "markdown",
   "id": "beab6ab4",
   "metadata": {},
   "source": [
    "### Logistic Regression"
   ]
  },
  {
   "cell_type": "code",
   "execution_count": 29,
   "id": "60e70408",
   "metadata": {},
   "outputs": [
    {
     "name": "stdout",
     "output_type": "stream",
     "text": [
      "[[961   0]\n",
      " [ 51   0]]\n",
      "Logistic Regression's Accuracy : 0.9496047430830039\n",
      "K-Fold Validation Mean Accuracy: 95.13 %\n",
      "Standard Deviation: 0.11 %\n",
      "              precision    recall  f1-score   support\n",
      "\n",
      "           0       0.95      1.00      0.97       961\n",
      "           1       0.00      0.00      0.00        51\n",
      "\n",
      "    accuracy                           0.95      1012\n",
      "   macro avg       0.47      0.50      0.49      1012\n",
      "weighted avg       0.90      0.95      0.93      1012\n",
      "\n",
      "F1: 0.00\n"
     ]
    }
   ],
   "source": [
    "from sklearn.linear_model import LogisticRegression\n",
    "classifier = LogisticRegression(random_state = 0)\n",
    "classifier.fit(X_train, y_train)\n",
    "\n",
    "# Predicting the test set results\n",
    "y_pred = classifier.predict(X_test)\n",
    "\n",
    "# Making the Confusion Matrix and Calculating the Accuracy\n",
    "from sklearn.metrics import confusion_matrix, accuracy_score\n",
    "cm = confusion_matrix(y_test, y_pred)\n",
    "print(cm)\n",
    "\n",
    "acc0 = accuracy_score(y_test, y_pred)\n",
    "\n",
    "print(\"Logistic Regression's Accuracy :\", acc0)\n",
    "accuracy.append(acc0)\n",
    "model.append('Logistic Regression')\n",
    "\n",
    "# Cross validation score\n",
    "from sklearn.model_selection import cross_val_score\n",
    "score = cross_val_score(classifier, X_train, y_train, cv=10)\n",
    "print(\"K-Fold Validation Mean Accuracy: {:.2f} %\".format(score.mean()*100))\n",
    "print(\"Standard Deviation: {:.2f} %\".format(score.std()*100))\n",
    "\n",
    "# Classification Report\n",
    "from sklearn.metrics import classification_report\n",
    "print(classification_report(y_test, y_pred))\n",
    "\n",
    "# F1- score\n",
    "from sklearn.metrics import f1_score\n",
    "f1 = f1_score(y_test, y_pred)\n",
    "print('F1: {:.2f}'.format(f1))"
   ]
  },
  {
   "cell_type": "markdown",
   "id": "53bf804a",
   "metadata": {},
   "source": [
    "### Kernel SVM"
   ]
  },
  {
   "cell_type": "code",
   "execution_count": 30,
   "id": "bc42cb12",
   "metadata": {},
   "outputs": [
    {
     "name": "stdout",
     "output_type": "stream",
     "text": [
      "[[961   0]\n",
      " [ 51   0]]\n",
      "Kernel SVM's Accuracy : 0.9496047430830039\n",
      "K-Fold Validation Mean Accuracy: 95.13 %\n",
      "Standard Deviation: 0.11 %\n",
      "              precision    recall  f1-score   support\n",
      "\n",
      "           0       0.95      1.00      0.97       961\n",
      "           1       0.00      0.00      0.00        51\n",
      "\n",
      "    accuracy                           0.95      1012\n",
      "   macro avg       0.47      0.50      0.49      1012\n",
      "weighted avg       0.90      0.95      0.93      1012\n",
      "\n",
      "F1: 0.00\n"
     ]
    }
   ],
   "source": [
    "from sklearn.svm import SVC\n",
    "classifier = SVC(kernel = 'rbf',gamma='scale', random_state = 0)\n",
    "classifier.fit(X_train, y_train)\n",
    "\n",
    "# Predicting the Test set results\n",
    "y_pred = classifier.predict(X_test)\n",
    "\n",
    "# Making the Confusion Matrix and Calculating the Accuracy\n",
    "from sklearn.metrics import confusion_matrix, accuracy_score\n",
    "cm = confusion_matrix(y_test, y_pred)\n",
    "print(cm)\n",
    "\n",
    "acc2 = accuracy_score(y_test, y_pred)\n",
    "accuracy.append(acc2)\n",
    "model.append('Kernel SVM')\n",
    "print(\"Kernel SVM's Accuracy :\", acc2)\n",
    "\n",
    "# Cross validation score\n",
    "from sklearn.model_selection import cross_val_score\n",
    "score = cross_val_score(classifier, X_train, y_train, cv=10)\n",
    "print(\"K-Fold Validation Mean Accuracy: {:.2f} %\".format(score.mean()*100))\n",
    "print(\"Standard Deviation: {:.2f} %\".format(score.std()*100))\n",
    "\n",
    "# Classification Report\n",
    "from sklearn.metrics import classification_report\n",
    "print(classification_report(y_test, y_pred))\n",
    "\n",
    "# F1- score\n",
    "from sklearn.metrics import f1_score\n",
    "f1 = f1_score(y_test, y_pred)\n",
    "print('F1: {:.2f}'.format(f1))"
   ]
  },
  {
   "cell_type": "markdown",
   "id": "0abddc5d",
   "metadata": {},
   "source": [
    "### K - Nearest Neighbors"
   ]
  },
  {
   "cell_type": "code",
   "execution_count": 31,
   "id": "0b65ae15",
   "metadata": {},
   "outputs": [
    {
     "name": "stdout",
     "output_type": "stream",
     "text": [
      "[[961   0]\n",
      " [ 50   1]]\n",
      "K-Nearest Neighbours's Accuracy : 0.950592885375494\n",
      "K-Fold Validation Mean Accuracy: 95.08 %\n",
      "Standard Deviation: 0.17 %\n",
      "              precision    recall  f1-score   support\n",
      "\n",
      "           0       0.95      1.00      0.97       961\n",
      "           1       1.00      0.02      0.04        51\n",
      "\n",
      "    accuracy                           0.95      1012\n",
      "   macro avg       0.98      0.51      0.51      1012\n",
      "weighted avg       0.95      0.95      0.93      1012\n",
      "\n",
      "F1: 0.04\n"
     ]
    }
   ],
   "source": [
    "# Feature Scaling\n",
    "from sklearn.preprocessing import StandardScaler\n",
    "sc = StandardScaler()\n",
    "X_train_knn = sc.fit_transform(X_train[:, 16:])\n",
    "X_test_knn = sc.transform(X_test[:, 16:])\n",
    "\n",
    "from sklearn.neighbors import KNeighborsClassifier\n",
    "classifier = KNeighborsClassifier(n_neighbors=10)\n",
    "classifier.fit(X_train_knn, y_train)\n",
    "\n",
    "# Predicting the Test set results\n",
    "y_pred = classifier.predict(X_test_knn)\n",
    "\n",
    "# Making the Confusion Matrix and Calculating the Accuracy\n",
    "from sklearn.metrics import confusion_matrix, accuracy_score\n",
    "cm = confusion_matrix(y_test, y_pred)\n",
    "print(cm)\n",
    "\n",
    "acc3 = accuracy_score(y_test, y_pred)\n",
    "accuracy.append(acc3)\n",
    "model.append('K-Nearest Neighbors')\n",
    "print(\"K-Nearest Neighbours's Accuracy :\", acc3)\n",
    "\n",
    "# Cross validation score\n",
    "from sklearn.model_selection import cross_val_score\n",
    "score = cross_val_score(classifier, X_train, y_train, cv=10)\n",
    "print(\"K-Fold Validation Mean Accuracy: {:.2f} %\".format(score.mean()*100))\n",
    "print(\"Standard Deviation: {:.2f} %\".format(score.std()*100))\n",
    "\n",
    "# Classification Report\n",
    "from sklearn.metrics import classification_report\n",
    "print(classification_report(y_test, y_pred))\n",
    "\n",
    "# F1- score\n",
    "from sklearn.metrics import f1_score\n",
    "f1 = f1_score(y_test, y_pred)\n",
    "print('F1: {:.2f}'.format(f1))"
   ]
  },
  {
   "cell_type": "markdown",
   "id": "f26fc49b",
   "metadata": {},
   "source": [
    "### Naive Bayes"
   ]
  },
  {
   "cell_type": "code",
   "execution_count": 32,
   "id": "615944bc",
   "metadata": {},
   "outputs": [
    {
     "name": "stdout",
     "output_type": "stream",
     "text": [
      "[[475 486]\n",
      " [  6  45]]\n",
      "Naive Bayes's Accuracy : 0.5138339920948617\n",
      "K-Fold Validation Mean Accuracy: 51.62 %\n",
      "Standard Deviation: 2.23 %\n",
      "              precision    recall  f1-score   support\n",
      "\n",
      "           0       0.99      0.49      0.66       961\n",
      "           1       0.08      0.88      0.15        51\n",
      "\n",
      "    accuracy                           0.51      1012\n",
      "   macro avg       0.54      0.69      0.41      1012\n",
      "weighted avg       0.94      0.51      0.63      1012\n",
      "\n",
      "F1: 0.15\n"
     ]
    }
   ],
   "source": [
    "from sklearn.naive_bayes import GaussianNB\n",
    "classifier = GaussianNB()\n",
    "classifier.fit(X_train, y_train)\n",
    "\n",
    "# Predicting the Test set results\n",
    "y_pred = classifier.predict(X_test)\n",
    "\n",
    "# Making the Confusion Matrix and Calculating the Accuracy\n",
    "from sklearn.metrics import confusion_matrix, accuracy_score\n",
    "cm = confusion_matrix(y_test, y_pred)\n",
    "print(cm)\n",
    "\n",
    "acc4 = accuracy_score(y_test, y_pred)\n",
    "accuracy.append(acc4)\n",
    "model.append('Naive Bayes')\n",
    "print(\"Naive Bayes's Accuracy :\", acc4)\n",
    "\n",
    "# Cross validation score\n",
    "from sklearn.model_selection import cross_val_score\n",
    "score = cross_val_score(classifier, X_train, y_train, cv=10)\n",
    "print(\"K-Fold Validation Mean Accuracy: {:.2f} %\".format(score.mean()*100))\n",
    "print(\"Standard Deviation: {:.2f} %\".format(score.std()*100))\n",
    "\n",
    "# Classification Report\n",
    "from sklearn.metrics import classification_report\n",
    "print(classification_report(y_test, y_pred))\n",
    "\n",
    "# F1- score\n",
    "from sklearn.metrics import f1_score\n",
    "f1 = f1_score(y_test, y_pred)\n",
    "print('F1: {:.2f}'.format(f1))"
   ]
  },
  {
   "cell_type": "markdown",
   "id": "5ce2399c",
   "metadata": {},
   "source": [
    "### Decision Tree Classification"
   ]
  },
  {
   "cell_type": "code",
   "execution_count": 33,
   "id": "5eba65c0",
   "metadata": {},
   "outputs": [
    {
     "name": "stdout",
     "output_type": "stream",
     "text": [
      "[[918  43]\n",
      " [ 40  11]]\n",
      "Decision Tree Classification's Accuracy : 0.9179841897233202\n",
      "K-Fold Validation Mean Accuracy: 91.64 %\n",
      "Standard Deviation: 0.96 %\n",
      "              precision    recall  f1-score   support\n",
      "\n",
      "           0       0.96      0.96      0.96       961\n",
      "           1       0.20      0.22      0.21        51\n",
      "\n",
      "    accuracy                           0.92      1012\n",
      "   macro avg       0.58      0.59      0.58      1012\n",
      "weighted avg       0.92      0.92      0.92      1012\n",
      "\n",
      "F1: 0.21\n"
     ]
    }
   ],
   "source": [
    "from sklearn.tree import DecisionTreeClassifier\n",
    "classifier = DecisionTreeClassifier(criterion = 'entropy', random_state = 0)\n",
    "classifier.fit(X_train, y_train)\n",
    "\n",
    "# Predicting the Test set results\n",
    "y_pred = classifier.predict(X_test)\n",
    "\n",
    "# Making the Confusion Matrix and Calculating the Accuracy\n",
    "from sklearn.metrics import confusion_matrix, accuracy_score\n",
    "cm = confusion_matrix(y_test, y_pred)\n",
    "print(cm)\n",
    "\n",
    "acc5 = accuracy_score(y_test, y_pred)\n",
    "accuracy.append(acc5)\n",
    "model.append('Decision Tree Classification')\n",
    "print(\"Decision Tree Classification's Accuracy :\", acc5)\n",
    "\n",
    "# Cross validation score\n",
    "from sklearn.model_selection import cross_val_score\n",
    "score = cross_val_score(classifier, X_train, y_train, cv=10)\n",
    "print(\"K-Fold Validation Mean Accuracy: {:.2f} %\".format(score.mean()*100))\n",
    "print(\"Standard Deviation: {:.2f} %\".format(score.std()*100))\n",
    "\n",
    "# Classification Report\n",
    "from sklearn.metrics import classification_report\n",
    "print(classification_report(y_test, y_pred))\n",
    "\n",
    "# F1- score\n",
    "from sklearn.metrics import f1_score\n",
    "f1 = f1_score(y_test, y_pred)\n",
    "print('F1: {:.2f}'.format(f1))"
   ]
  },
  {
   "cell_type": "markdown",
   "id": "8ee616a1",
   "metadata": {},
   "source": [
    "### Random Forest Classification"
   ]
  },
  {
   "cell_type": "code",
   "execution_count": 34,
   "id": "d0f87fe0",
   "metadata": {},
   "outputs": [
    {
     "name": "stdout",
     "output_type": "stream",
     "text": [
      "[[959   2]\n",
      " [ 49   2]]\n",
      "Random Forest Classification's Accuracy: 0.9496047430830039\n",
      "K-Fold Validation Mean Accuracy: 94.86 %\n",
      "Standard Deviation: 0.21 %\n",
      "              precision    recall  f1-score   support\n",
      "\n",
      "           0       0.95      1.00      0.97       961\n",
      "           1       0.50      0.04      0.07        51\n",
      "\n",
      "    accuracy                           0.95      1012\n",
      "   macro avg       0.73      0.52      0.52      1012\n",
      "weighted avg       0.93      0.95      0.93      1012\n",
      "\n",
      "F1: 0.07\n"
     ]
    }
   ],
   "source": [
    "from sklearn.ensemble import RandomForestClassifier\n",
    "classifier = RandomForestClassifier(n_estimators= 100, criterion = 'gini' , random_state = 0)\n",
    "classifier.fit(X_train, y_train)\n",
    "\n",
    "# Predicting the test set results\n",
    "y_pred = classifier.predict(X_test)\n",
    "\n",
    "# Making the Confusion Matrix and Calculating the Accuracy\n",
    "from sklearn.metrics import confusion_matrix, accuracy_score\n",
    "cm = confusion_matrix(y_test, y_pred)\n",
    "print(cm)\n",
    "\n",
    "acc6 = accuracy_score(y_test, y_pred)\n",
    "accuracy.append(acc6)\n",
    "model.append('Random Forest Classification')\n",
    "print(\"Random Forest Classification's Accuracy:\", acc6)\n",
    "\n",
    "# Cross validation score\n",
    "from sklearn.model_selection import cross_val_score\n",
    "score = cross_val_score(classifier, X_train, y_train, cv=10)\n",
    "print(\"K-Fold Validation Mean Accuracy: {:.2f} %\".format(score.mean()*100))\n",
    "print(\"Standard Deviation: {:.2f} %\".format(score.std()*100))\n",
    "\n",
    "# Classification Report\n",
    "from sklearn.metrics import classification_report\n",
    "print(classification_report(y_test, y_pred))\n",
    "\n",
    "# F1- score\n",
    "from sklearn.metrics import f1_score\n",
    "f1 = f1_score(y_test, y_pred)\n",
    "print('F1: {:.2f}'.format(f1))"
   ]
  },
  {
   "cell_type": "markdown",
   "id": "b6577274",
   "metadata": {},
   "source": [
    "## Model Accuracy"
   ]
  },
  {
   "cell_type": "code",
   "execution_count": 35,
   "id": "374b0cba",
   "metadata": {},
   "outputs": [
    {
     "data": {
      "text/plain": [
       "<AxesSubplot:>"
      ]
     },
     "execution_count": 35,
     "metadata": {},
     "output_type": "execute_result"
    },
    {
     "data": {
      "image/png": "[encoded data removed]",
      "text/plain": [
       "<Figure size 432x288 with 1 Axes>"
      ]
     },
     "metadata": {
      "needs_background": "light"
     },
     "output_type": "display_data"
    }
   ],
   "source": [
    "plt.xticks(rotation=90)\n",
    "sns.barplot(x = model, y = accuracy, palette ='dark')"
   ]
  }
 ],
 "metadata": {
  "kernelspec": {
   "display_name": "Python 3",
   "language": "python",
   "name": "python3"
  },
  "language_info": {
   "codemirror_mode": {
    "name": "ipython",
    "version": 3
   },
   "file_extension": ".py",
   "mimetype": "text/x-python",
   "name": "python",
   "nbconvert_exporter": "python",
   "pygments_lexer": "ipython3",
   "version": "3.8.8"
  }
 },
 "nbformat": 4,
 "nbformat_minor": 5
}
